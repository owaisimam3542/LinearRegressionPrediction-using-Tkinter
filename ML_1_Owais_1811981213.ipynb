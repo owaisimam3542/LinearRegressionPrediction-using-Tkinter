{
 "cells": [
  {
   "cell_type": "code",
   "execution_count": 2,
   "metadata": {},
   "outputs": [],
   "source": [
    "from sklearn import linear_model\n",
    "import pandas as pd\n",
    "import tkinter as tk\n",
    "\n",
    "data=pd.read_csv(\"C:\\\\Users\\HP\\Downloads\\\\HousePrices.csv\")\n",
    "\n",
    "X=data[['OverallQual','OverallCond','Dwell_Type','TotRmsAbvGrd']]\n",
    "Y=data['Property_Sale_Price']\n",
    "\n",
    "regr = linear_model.LinearRegression()\n",
    "regr.fit(X, Y)\n",
    "\n",
    "root=tk.Tk()\n",
    "\n",
    "canvas1 = tk.Canvas(root, width = 500, height = 300)\n",
    "canvas1.pack()\n",
    "\n",
    "label1 = tk.Label(root, text='OverallQual')\n",
    "canvas1.create_window(100, 100, window=label1)\n",
    "entry1 = tk.Entry (root) # create 1st entry box\n",
    "canvas1.create_window(270, 100, window=entry1)\n",
    "\n",
    "\n",
    "label2 = tk.Label(root, text='OverallCond')\n",
    "canvas1.create_window(100, 120, window=label2)\n",
    "entry2 = tk.Entry (root) # create 1st entry box\n",
    "canvas1.create_window(270, 120, window=entry2)\n",
    "\n",
    "\n",
    "label3 = tk.Label(root, text='Dwell_Type')\n",
    "canvas1.create_window(100, 140, window=label3)\n",
    "entry3 = tk.Entry (root) # create 1st entry box\n",
    "canvas1.create_window(270, 140, window=entry3)\n",
    "\n",
    "\n",
    "label4 = tk.Label(root, text='TotRmsAbvGrd')\n",
    "canvas1.create_window(100, 160, window=label4)\n",
    "entry4 = tk.Entry (root) # create 1st entry box\n",
    "canvas1.create_window(270, 160, window=entry4)\n",
    "\n",
    "def values():\n",
    "    global qual #our 1st input variable\n",
    "    qual = int(entry1.get()) \n",
    "    global cond #our 1st input variable\n",
    "    cond = int(entry2.get())\n",
    "    global dwell #our 1st input variable\n",
    "    dwell = int(entry3.get())\n",
    "    global rooms #our 1st input variable\n",
    "    rooms = int(entry4.get())\n",
    "    \n",
    "    Prediction_result  = ('Predicted Marks: ', regr.predict([[qual,cond,dwell,rooms]]))\n",
    "    label_Prediction = tk.Label(root, text= Prediction_result, bg='orange')\n",
    "    canvas1.create_window(260, 280, window=label_Prediction)\n",
    "    \n",
    "button1 = tk.Button (root, text='Predict marks',command=values, bg='orange') # button to call the 'values' command above \n",
    "canvas1.create_window(270, 200, window=button1)\n",
    "\n",
    "root.mainloop()"
   ]
  },
  {
   "cell_type": "code",
   "execution_count": null,
   "metadata": {},
   "outputs": [],
   "source": []
  },
  {
   "cell_type": "code",
   "execution_count": null,
   "metadata": {},
   "outputs": [],
   "source": []
  }
 ],
 "metadata": {
  "kernelspec": {
   "display_name": "Python 3",
   "language": "python",
   "name": "python3"
  },
  "language_info": {
   "codemirror_mode": {
    "name": "ipython",
    "version": 3
   },
   "file_extension": ".py",
   "mimetype": "text/x-python",
   "name": "python",
   "nbconvert_exporter": "python",
   "pygments_lexer": "ipython3",
   "version": "3.8.3"
  }
 },
 "nbformat": 4,
 "nbformat_minor": 4
}
